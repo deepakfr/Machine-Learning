{
 "cells": [
  {
   "cell_type": "markdown",
   "metadata": {},
   "source": [
    "# Statistical Machine Learning - Final exam exercise 1"
   ]
  },
  {
   "cell_type": "markdown",
   "metadata": {},
   "source": [
    "### <span style=\"color:red\"> WRITE YOUR NAME HERE: </span>   "
   ]
  },
  {
   "cell_type": "code",
   "execution_count": 1,
   "metadata": {},
   "outputs": [
    {
     "name": "stdout",
     "output_type": "stream",
     "text": [
      "Deepakraj DHANARAJ\n"
     ]
    }
   ],
   "source": [
    "print(\"Deepakraj DHANARAJ\")"
   ]
  },
  {
   "cell_type": "markdown",
   "metadata": {},
   "source": [
    "### Guidelines\n",
    "\n",
    "The exam is composed of two exercises (on separate notebooks) each one with a specific dataset. In total, there are three independent parts to complete:\n",
    "* Exercise 1 (8 points): regression\n",
    "* Exercise 2 part 1 (9 points): classification\n",
    "* Exercise 2 part 2 (3 points): clustering\n",
    "\n",
    "You can work directly on the notebooks. At the end of the 2.5-hour exam, you will have 5 minutes to upload it on Teams.\n",
    "\n",
    "Don't forget that you have to complete the TWO notebooks to have a passing grade.\n",
    "\n",
    "Many questions can be tackled even if the previous ones are not completed or not correct.\n",
    "\n",
    "The exam is long on purpose, so don't worry if you cannot complete 100 % of the questions. Do as much as you can. In case you are blocked at some point, don't panic. Just move on to the next question. And remember written answers where you have to explain or comment your results are worth many points.\n",
    "\n",
    "Avoid \"naive\" copy-pasting: you will not understand what you are doing and it will be a problem for the next questions. Notebooks that are cluttered with useless code that has been mindlessly copied will be penalized. Just do what is asked at each question. \n",
    "\n",
    "Moreover, you are reminded that any messaging with each other during the exam or use of generative AI models such as ChatGPT, Bard or Bing will be considered as cheating and will result in the termination of your exam. Moreover, similarities between student works are easy to spot. \n",
    "\n",
    "If a question seems unclear and you are not sure about what you have to do, do not hesitate to raise your hand and ask for clarification.\n",
    "\n",
    "Good luck!"
   ]
  },
  {
   "cell_type": "markdown",
   "metadata": {},
   "source": [
    "## Exercise 1 (8 points)"
   ]
  },
  {
   "cell_type": "markdown",
   "metadata": {},
   "source": [
    "Here are some libraries that could be usefull in the exercises."
   ]
  },
  {
   "cell_type": "code",
   "execution_count": 2,
   "metadata": {
    "ExecuteTime": {
     "end_time": "2022-05-24T20:46:00.889907Z",
     "start_time": "2022-05-24T20:45:59.574192Z"
    }
   },
   "outputs": [],
   "source": [
    "import numpy as np\n",
    "import matplotlib.pyplot as plt\n",
    "import pandas as pd\n",
    "import sklearn "
   ]
  },
  {
   "cell_type": "markdown",
   "metadata": {},
   "source": [
    "We will work here on the Boston housing data set that records the median value of houses for 506 neighborhoods around Boston. Our task is to predict the median house value."
   ]
  },
  {
   "cell_type": "markdown",
   "metadata": {},
   "source": [
    "Let's import that data set.  "
   ]
  },
  {
   "cell_type": "code",
   "execution_count": 3,
   "metadata": {},
   "outputs": [],
   "source": [
    "data_url = \"http://lib.stat.cmu.edu/datasets/boston\"\n",
    "raw_df = pd.read_csv(data_url, sep=\"\\s+\", skiprows=22, header=None)\n",
    "data = np.hstack([raw_df.values[::2, :], raw_df.values[1::2, :2]])\n",
    "\n",
    "colnames = ['CRIM', 'ZN', 'INDUS', 'CHAS', 'NOX', 'RM', 'AGE', 'DIS', 'RAD', 'TAX', 'PTRATIO','B', 'LSTAT']\n",
    "features = pd.DataFrame(data, columns=colnames).drop('B', axis=1)\n",
    "target = raw_df.values[1::2, 2]"
   ]
  },
  {
   "cell_type": "markdown",
   "metadata": {},
   "source": [
    "Below is the description of the variables in the dataset. Come back to it when you need to."
   ]
  },
  {
   "cell_type": "markdown",
   "metadata": {},
   "source": [
    "### Boston house prices dataset\n",
    "---------------------------\n",
    "\n",
    "**Data Set Characteristics:**  \n",
    "\n",
    "    :Number of Instances: 506 \n",
    "\n",
    "    :Number of Attributes: 13 numeric/categorical predictive.\n",
    "\n",
    "    :Attribute Information (in order):\n",
    "        - CRIM     per capita crime rate by town\n",
    "        - ZN       proportion of residential land zoned for lots over 25,000 sq.ft.\n",
    "        - INDUS    proportion of non-retail business acres per town\n",
    "        - CHAS     Charles River dummy variable (= 1 if tract bounds river; 0 otherwise)\n",
    "        - NOX      nitric oxides concentration (parts per 10 million)\n",
    "        - RM       average number of rooms per dwelling\n",
    "        - AGE      proportion of owner-occupied units built prior to 1940\n",
    "        - DIS      weighted distances to five Boston employment centres\n",
    "        - RAD      index of accessibility to radial highways\n",
    "        - TAX      full-value property-tax rate per 10,000 dollars\n",
    "        - PTRATIO  pupil-teacher ratio by town\n",
    "        - LSTAT    % lower status of the population\n",
    "    \n",
    "    :Target:\n",
    "        - HOUSEVALUE    Median value of owner-occupied homes in slices of 1000 dollars\n",
    "\n",
    "    :Missing Attribute Values: None\n",
    "\n",
    "    :Creator: Harrison, D. and Rubinfeld, D.L."
   ]
  },
  {
   "cell_type": "markdown",
   "metadata": {},
   "source": [
    "Let's prepare the data frame of the target (corresponding to the median value (in thousands of dollars) of the houses in a specific neighborhood of Boston):"
   ]
  },
  {
   "cell_type": "code",
   "execution_count": 4,
   "metadata": {
    "ExecuteTime": {
     "end_time": "2022-05-24T20:47:57.524251Z",
     "start_time": "2022-05-24T20:47:57.521156Z"
    }
   },
   "outputs": [
    {
     "data": {
      "text/plain": [
       "0    24.0\n",
       "1    21.6\n",
       "2    34.7\n",
       "3    33.4\n",
       "4    36.2\n",
       "Name: HOUSEVALUE, dtype: float64"
      ]
     },
     "execution_count": 4,
     "metadata": {},
     "output_type": "execute_result"
    }
   ],
   "source": [
    "y = pd.Series(data=target, name='HOUSEVALUE')\n",
    "y.head()"
   ]
  },
  {
   "cell_type": "markdown",
   "metadata": {},
   "source": [
    "Let's prepare the data frame of the features:"
   ]
  },
  {
   "cell_type": "code",
   "execution_count": 5,
   "metadata": {
    "ExecuteTime": {
     "end_time": "2022-05-24T20:48:01.579916Z",
     "start_time": "2022-05-24T20:48:01.561081Z"
    }
   },
   "outputs": [
    {
     "data": {
      "text/html": [
       "<div>\n",
       "<style scoped>\n",
       "    .dataframe tbody tr th:only-of-type {\n",
       "        vertical-align: middle;\n",
       "    }\n",
       "\n",
       "    .dataframe tbody tr th {\n",
       "        vertical-align: top;\n",
       "    }\n",
       "\n",
       "    .dataframe thead th {\n",
       "        text-align: right;\n",
       "    }\n",
       "</style>\n",
       "<table border=\"1\" class=\"dataframe\">\n",
       "  <thead>\n",
       "    <tr style=\"text-align: right;\">\n",
       "      <th></th>\n",
       "      <th>CRIM</th>\n",
       "      <th>ZN</th>\n",
       "      <th>INDUS</th>\n",
       "      <th>CHAS</th>\n",
       "      <th>NOX</th>\n",
       "      <th>RM</th>\n",
       "      <th>AGE</th>\n",
       "      <th>DIS</th>\n",
       "      <th>RAD</th>\n",
       "      <th>TAX</th>\n",
       "      <th>PTRATIO</th>\n",
       "      <th>LSTAT</th>\n",
       "    </tr>\n",
       "  </thead>\n",
       "  <tbody>\n",
       "    <tr>\n",
       "      <th>0</th>\n",
       "      <td>0.00632</td>\n",
       "      <td>18.0</td>\n",
       "      <td>2.31</td>\n",
       "      <td>0.0</td>\n",
       "      <td>0.538</td>\n",
       "      <td>6.575</td>\n",
       "      <td>65.2</td>\n",
       "      <td>4.0900</td>\n",
       "      <td>1.0</td>\n",
       "      <td>296.0</td>\n",
       "      <td>15.3</td>\n",
       "      <td>4.98</td>\n",
       "    </tr>\n",
       "    <tr>\n",
       "      <th>1</th>\n",
       "      <td>0.02731</td>\n",
       "      <td>0.0</td>\n",
       "      <td>7.07</td>\n",
       "      <td>0.0</td>\n",
       "      <td>0.469</td>\n",
       "      <td>6.421</td>\n",
       "      <td>78.9</td>\n",
       "      <td>4.9671</td>\n",
       "      <td>2.0</td>\n",
       "      <td>242.0</td>\n",
       "      <td>17.8</td>\n",
       "      <td>9.14</td>\n",
       "    </tr>\n",
       "    <tr>\n",
       "      <th>2</th>\n",
       "      <td>0.02729</td>\n",
       "      <td>0.0</td>\n",
       "      <td>7.07</td>\n",
       "      <td>0.0</td>\n",
       "      <td>0.469</td>\n",
       "      <td>7.185</td>\n",
       "      <td>61.1</td>\n",
       "      <td>4.9671</td>\n",
       "      <td>2.0</td>\n",
       "      <td>242.0</td>\n",
       "      <td>17.8</td>\n",
       "      <td>4.03</td>\n",
       "    </tr>\n",
       "    <tr>\n",
       "      <th>3</th>\n",
       "      <td>0.03237</td>\n",
       "      <td>0.0</td>\n",
       "      <td>2.18</td>\n",
       "      <td>0.0</td>\n",
       "      <td>0.458</td>\n",
       "      <td>6.998</td>\n",
       "      <td>45.8</td>\n",
       "      <td>6.0622</td>\n",
       "      <td>3.0</td>\n",
       "      <td>222.0</td>\n",
       "      <td>18.7</td>\n",
       "      <td>2.94</td>\n",
       "    </tr>\n",
       "    <tr>\n",
       "      <th>4</th>\n",
       "      <td>0.06905</td>\n",
       "      <td>0.0</td>\n",
       "      <td>2.18</td>\n",
       "      <td>0.0</td>\n",
       "      <td>0.458</td>\n",
       "      <td>7.147</td>\n",
       "      <td>54.2</td>\n",
       "      <td>6.0622</td>\n",
       "      <td>3.0</td>\n",
       "      <td>222.0</td>\n",
       "      <td>18.7</td>\n",
       "      <td>5.33</td>\n",
       "    </tr>\n",
       "  </tbody>\n",
       "</table>\n",
       "</div>"
      ],
      "text/plain": [
       "      CRIM    ZN  INDUS  CHAS    NOX     RM   AGE     DIS  RAD    TAX  \\\n",
       "0  0.00632  18.0   2.31   0.0  0.538  6.575  65.2  4.0900  1.0  296.0   \n",
       "1  0.02731   0.0   7.07   0.0  0.469  6.421  78.9  4.9671  2.0  242.0   \n",
       "2  0.02729   0.0   7.07   0.0  0.469  7.185  61.1  4.9671  2.0  242.0   \n",
       "3  0.03237   0.0   2.18   0.0  0.458  6.998  45.8  6.0622  3.0  222.0   \n",
       "4  0.06905   0.0   2.18   0.0  0.458  7.147  54.2  6.0622  3.0  222.0   \n",
       "\n",
       "   PTRATIO  LSTAT  \n",
       "0     15.3   4.98  \n",
       "1     17.8   9.14  \n",
       "2     17.8   4.03  \n",
       "3     18.7   2.94  \n",
       "4     18.7   5.33  "
      ]
     },
     "execution_count": 5,
     "metadata": {},
     "output_type": "execute_result"
    }
   ],
   "source": [
    "X = features.copy()\n",
    "X.head()"
   ]
  },
  {
   "cell_type": "markdown",
   "metadata": {},
   "source": [
    "### 1) We will focus here on LSTAT. \n",
    "- Compute the correlation of LSTAT with the other features. \n",
    "- Which other feature is the most correlated with LSTAT? \n",
    "- Which is the least?"
   ]
  },
  {
   "cell_type": "code",
   "execution_count": 6,
   "metadata": {},
   "outputs": [
    {
     "name": "stdout",
     "output_type": "stream",
     "text": [
      "Computing LSTAT with other features:\n",
      "CRIM       0.455621\n",
      "ZN        -0.412995\n",
      "INDUS      0.603800\n",
      "CHAS      -0.053929\n",
      "NOX        0.590879\n",
      "RM        -0.613808\n",
      "AGE        0.602339\n",
      "DIS       -0.496996\n",
      "RAD        0.488676\n",
      "TAX        0.543993\n",
      "PTRATIO    0.374044\n",
      "LSTAT      1.000000\n",
      "Name: LSTAT, dtype: float64\n",
      "Most correlated feature with LSTAT: INDUS\n",
      "Least correlated feature with LSTAT: RM\n"
     ]
    }
   ],
   "source": [
    "correlation = features.corr()['LSTAT']\n",
    "most_correlated_feature = correlation.drop('LSTAT').idxmax()\n",
    "least_correlated_feature = correlation.drop('LSTAT').idxmin()\n",
    "\n",
    "print(\"Computing LSTAT with other features:\")\n",
    "print(correlation)\n",
    "print(\"Most correlated feature with LSTAT:\", most_correlated_feature)\n",
    "print(\"Least correlated feature with LSTAT:\", least_correlated_feature)\n"
   ]
  },
  {
   "cell_type": "code",
   "execution_count": null,
   "metadata": {},
   "outputs": [],
   "source": []
  },
  {
   "cell_type": "markdown",
   "metadata": {},
   "source": [
    "### 2a) Plot HOUSEVALUE (our target) vs. LSTAT (our predictor)"
   ]
  },
  {
   "cell_type": "code",
   "execution_count": 7,
   "metadata": {},
   "outputs": [
    {
     "data": {
      "image/png": "[encoded data removed]",
      "text/plain": [
       "<Figure size 640x480 with 1 Axes>"
      ]
     },
     "metadata": {},
     "output_type": "display_data"
    }
   ],
   "source": [
    "import matplotlib.pyplot as plt\n",
    "\n",
    "plt.scatter(features['LSTAT'], target)\n",
    "plt.xlabel('LSTAT')\n",
    "plt.ylabel('HOUSEVALUE')\n",
    "plt.title('HOUSEVALUE vs. LSTAT')\n",
    "plt.show()\n"
   ]
  },
  {
   "cell_type": "markdown",
   "metadata": {},
   "source": [
    "### 2b) Do you think that a linear regression is relevant for predicting HOUSEVALUE from LSTAT? Explain why."
   ]
  },
  {
   "cell_type": "code",
   "execution_count": 8,
   "metadata": {},
   "outputs": [
    {
     "name": "stdout",
     "output_type": "stream",
     "text": [
      "Correlation between LSTAT and HOUSEVALUE: -0.7376627261740145\n",
      "Coefficients: [-0.95004935]\n",
      "Intercept: 34.5538408793831\n"
     ]
    }
   ],
   "source": [
    "from sklearn.linear_model import LinearRegression\n",
    "\n",
    "df = pd.DataFrame({'LSTAT': features['LSTAT'], 'HOUSEVALUE': target})\n",
    "\n",
    "correlation = df.corr().loc['LSTAT', 'HOUSEVALUE']\n",
    "print(\"Correlation between LSTAT and HOUSEVALUE:\", correlation)\n",
    "\n",
    "X = df[['LSTAT']]\n",
    "y = df['HOUSEVALUE']\n",
    "model = LinearRegression()\n",
    "model.fit(X, y)\n",
    "\n",
    "coefficients = model.coef_\n",
    "intercept = model.intercept_\n",
    "print(\"Coefficients:\", coefficients)\n",
    "print(\"Intercept:\", intercept)\n"
   ]
  },
  {
   "cell_type": "markdown",
   "metadata": {},
   "source": [
    "### 3) Proceed to a split of the dataset. Keep 60% of the data for training. Bear in mind that you will have to give an accurate estimation of the performance of your best model at the end."
   ]
  },
  {
   "cell_type": "code",
   "execution_count": 9,
   "metadata": {},
   "outputs": [],
   "source": [
    "from sklearn.model_selection import train_test_split\n",
    "\n",
    "X_train, X_test, y_train, y_test = train_test_split(X, y, test_size=0.4, random_state=42)\n"
   ]
  },
  {
   "cell_type": "markdown",
   "metadata": {},
   "source": [
    "### 4a) Train a linear regression model with only LSTAT as a feature. "
   ]
  },
  {
   "cell_type": "code",
   "execution_count": 10,
   "metadata": {},
   "outputs": [
    {
     "data": {
      "text/plain": [
       "array([26.41280092, 31.99812553, 17.25935603, 29.98092118, 18.07029246,\n",
       "       23.44274626, 16.9958017 , 11.08610251, 22.53044279, 21.05048381,\n",
       "       17.41140661, 18.24261645, -1.90915368, 23.06768817, 23.67589049,\n",
       "       23.75698413, 17.75605459,  4.53779089, 32.56578103, 17.1985358 ,\n",
       "       28.89629371, 28.2880914 , 12.66742853, 25.77418848, 19.66175519,\n",
       "       17.1883991 , 26.35198068, 16.61060689, 18.07029246, 21.28362804,\n",
       "       20.68556242, 28.27795469, 21.95265059, 25.24707981, 13.96492681,\n",
       "       19.57052484, 31.49129027, 25.64241131, 20.71597254, 27.93330671,\n",
       "       14.14738751, 27.94344342, 32.65701138, 22.30743527, 26.64594514,\n",
       "       18.23247974, 16.97552829, 28.76451654, 19.06368958, 30.52830327,\n",
       "       22.12497458, 30.92363477, 16.60047019, 27.80152954, 32.37318363,\n",
       "       24.8517483 , 18.75958842, 32.20085964, 25.82487201, 16.86402453,\n",
       "       25.94651247, 30.70062726, 31.76498131, 23.72657401, 30.0113313 ,\n",
       "       12.17072998, 18.22234304, 28.76451654, 31.19732582, 16.30650574,\n",
       "       21.23294451, 27.7305726 , 11.4611606 , 29.93023765, 25.16598616,\n",
       "        4.568201  , 23.07782487, 31.71429779, 14.20820774, 11.27869991,\n",
       "       26.66621855,  8.81548052, 26.1999301 ,  9.5453233 , 23.6961639 ,\n",
       "       27.41633474, 18.93191241, 29.37271886, 29.28148851, 20.78692948,\n",
       "       25.32817345,  8.5721996 , 23.14878181, 22.73317689, 28.35904833,\n",
       "       24.30436621, 25.91610236,  0.7365264 , 17.27962944, 14.06629387,\n",
       "       22.54057949, 26.51416797, 10.32584961, 26.99059312, 27.63934226,\n",
       "       11.96799587, 24.14217893, 30.42693621, 27.45688156, 29.72750355,\n",
       "        8.764797  , 15.52597943, 28.73410643, 25.997196  , 29.12943793,\n",
       "       20.19900057, 27.9130333 , 18.84068206, 23.40219944, 29.12943793,\n",
       "       22.90550088, 29.59572638, 14.67449618, 25.13557605, 29.68695673,\n",
       "       27.77111943, 29.12943793, 30.69049055, 20.35105115, 31.76498131,\n",
       "        7.94372387, 28.13604082, 22.3581188 , 18.25275315,  6.86923311,\n",
       "       23.38192603, 26.9500463 , 31.57238391, 31.13650558, 19.05355287,\n",
       "       20.70583583, 30.53843997, 25.19639628, 11.2685632 ,  7.8220834 ,\n",
       "       24.84161159, 20.2496841 , 15.78953377, 15.42461237, 30.88308795,\n",
       "       19.13464651, 18.911639  , 30.29515904, 23.37178933, 25.2268064 ,\n",
       "       28.90643042, 17.1985358 , 27.67988908, 32.59619115, 12.28223373,\n",
       "       22.24661504, 22.24661504, 22.39866562, 28.61246596, 24.98352547,\n",
       "       23.43260956, 29.58558967, 17.29990285, 20.56392196, 16.16459186,\n",
       "       22.04388093, 23.1386451 , 26.68649196, 30.92363477, 21.0200737 ,\n",
       "       19.99626646, 24.98352547, 30.17351858, 32.66714808, 27.74070931,\n",
       "        5.88597269,  0.33105819, 10.6806343 , 17.73578118, 31.3595131 ,\n",
       "       25.73364166, 17.89796847,  0.69597958, 31.79539143, 27.36565121,\n",
       "       21.19239769, 24.32463962, 20.26995751, 19.00286934,  8.44042243,\n",
       "       30.47761974, 28.92670383, 19.81380577, 20.35105115,  7.39634178,\n",
       "       27.30483098, 23.29069568, 25.51063414])"
      ]
     },
     "execution_count": 10,
     "metadata": {},
     "output_type": "execute_result"
    }
   ],
   "source": [
    "from sklearn.linear_model import LinearRegression\n",
    "\n",
    "model = LinearRegression()\n",
    "\n",
    "X_train_lstat = X_train[['LSTAT']]\n",
    "X_test_lstat = X_test[['LSTAT']]\n",
    "model.fit(X_train_lstat, y_train)\n",
    "\n",
    "\n",
    "y_pred = model.predict(X_test_lstat)\n",
    "y_pred\n"
   ]
  },
  {
   "cell_type": "markdown",
   "metadata": {},
   "source": [
    "### 4b) Compute the performance metrics of the model (at least one interpretable metric of your choice).   How do you interpret that? Does the model have a reasonable error in this context?"
   ]
  },
  {
   "cell_type": "code",
   "execution_count": 11,
   "metadata": {},
   "outputs": [
    {
     "name": "stdout",
     "output_type": "stream",
     "text": [
      "RMSE 6.2087305844885865\n"
     ]
    }
   ],
   "source": [
    "from sklearn.metrics import mean_squared_error\n",
    "\n",
    "rmse = np.sqrt(mean_squared_error(y_test, y_pred))\n",
    "\n",
    "print(\"RMSE\", rmse)\n"
   ]
  },
  {
   "cell_type": "code",
   "execution_count": 12,
   "metadata": {},
   "outputs": [
    {
     "name": "stdout",
     "output_type": "stream",
     "text": [
      "291.5859098522168\n",
      "17.075886795484937\n",
      "13.448128078817735\n"
     ]
    }
   ],
   "source": [
    "from sklearn.metrics import mean_squared_error, mean_absolute_error\n",
    "MSE = mean_squared_error(X_test, y_test)\n",
    "RMSE = mean_squared_error(X_test, y_test, squared=False) \n",
    "MAE = mean_absolute_error(X_test, y_test)\n",
    "\n",
    " \n",
    "\n",
    "print(MSE)\n",
    "print(RMSE)\n",
    "print(MAE)"
   ]
  },
  {
   "cell_type": "markdown",
   "metadata": {},
   "source": [
    "### 4c) What is the reggression coefficient (parameter) associated to LSTAT? Can you interpret this coefficient and explain how the model generates predictions for HOUSEVALUE mathematically?"
   ]
  },
  {
   "cell_type": "code",
   "execution_count": 13,
   "metadata": {},
   "outputs": [
    {
     "name": "stdout",
     "output_type": "stream",
     "text": [
      "reg coefficient -1.0136705295702848\n"
     ]
    }
   ],
   "source": [
    "coefficient = model.coef_[0]\n",
    "\n",
    "print(\"reg coefficient\", coefficient)\n"
   ]
  },
  {
   "cell_type": "code",
   "execution_count": 14,
   "metadata": {},
   "outputs": [
    {
     "data": {
      "text/plain": [
       "0      29.505762\n",
       "1      25.288892\n",
       "2      30.468749\n",
       "3      31.573650\n",
       "4      29.150977\n",
       "         ...    \n",
       "501    24.751647\n",
       "502    25.349712\n",
       "503    28.836739\n",
       "504    27.985256\n",
       "505    26.566117\n",
       "Name: LSTAT, Length: 506, dtype: float64"
      ]
     },
     "execution_count": 14,
     "metadata": {},
     "output_type": "execute_result"
    }
   ],
   "source": [
    "HOUSEVALUE = intercept + coefficient * features['LSTAT']\n",
    "HOUSEVALUE\n"
   ]
  },
  {
   "cell_type": "markdown",
   "metadata": {},
   "source": [
    "### 4d) Add the regression line on your plot HOUSEVALUE vs. LSTAT"
   ]
  },
  {
   "cell_type": "code",
   "execution_count": 15,
   "metadata": {},
   "outputs": [
    {
     "name": "stdout",
     "output_type": "stream",
     "text": [
      "RMSE: 6.2087305844885865\n"
     ]
    }
   ],
   "source": [
    "from sklearn.metrics import mean_squared_error\n",
    "\n",
    "rmse = np.sqrt(mean_squared_error(y_test, y_pred))\n",
    "\n",
    "print(\"RMSE:\", rmse)\n"
   ]
  },
  {
   "cell_type": "markdown",
   "metadata": {},
   "source": [
    "### 5a) Use any feature engineering technique you know in order to train a better linear regression model that uses LSTAT to predict HOUSEVALUE  \n",
    "Hint: Look at the regression line you plotted in the last question. It seems like a straight line is not the best to fit this point cloud. Is there a technique we saw in class that allows you to fit a different curve while still using only LSTAT as a feature?"
   ]
  },
  {
   "cell_type": "code",
   "execution_count": 16,
   "metadata": {},
   "outputs": [
    {
     "data": {
      "text/plain": [
       "array([38.95655831, 38.16359488, 37.38230204, 36.6126798 , 35.85472816,\n",
       "       35.10844712, 34.37383668, 33.65089683, 32.93962758, 32.24002893,\n",
       "       31.55210088, 30.87584343, 30.21125658, 29.55834032, 28.91709467,\n",
       "       28.28751961, 27.66961515, 27.06338128, 26.46881802, 25.88592536,\n",
       "       25.31470329, 24.75515182, 24.20727095, 23.67106068, 23.146521  ,\n",
       "       22.63365193, 22.13245345, 21.64292557, 21.16506829, 20.69888161,\n",
       "       20.24436553, 19.80152004, 19.37034516, 18.95084087, 18.54300718,\n",
       "       18.14684408, 17.76235159, 17.3895297 , 17.0283784 , 16.6788977 ,\n",
       "       16.3410876 , 16.0149481 , 15.70047919, 15.39768089, 15.10655318,\n",
       "       14.82709607, 14.55930956, 14.30319365, 14.05874834, 13.82597362,\n",
       "       13.60486951, 13.39543599, 13.19767307, 13.01158075, 12.83715902,\n",
       "       12.6744079 , 12.52332737, 12.38391744, 12.25617811, 12.14010938,\n",
       "       12.03571125, 11.94298371, 11.86192677, 11.79254044, 11.7348247 ,\n",
       "       11.68877955, 11.65440501, 11.63170106, 11.62066772, 11.62130497,\n",
       "       11.63361282, 11.65759127, 11.69324031, 11.74055996, 11.7995502 ,\n",
       "       11.87021104, 11.95254248, 12.04654452, 12.15221716, 12.26956039,\n",
       "       12.39857423, 12.53925866, 12.69161369, 12.85563932, 13.03133554,\n",
       "       13.21870237, 13.41773979, 13.62844781, 13.85082643, 14.08487565,\n",
       "       14.33059547, 14.58798588, 14.8570469 , 15.13777851, 15.43018072,\n",
       "       15.73425353, 16.04999693, 16.37741094, 16.71649554, 17.06725074])"
      ]
     },
     "execution_count": 16,
     "metadata": {},
     "output_type": "execute_result"
    }
   ],
   "source": [
    "from sklearn.linear_model import LinearRegression\n",
    "from sklearn.preprocessing import PolynomialFeatures\n",
    "\n",
    "\n",
    "X = df['LSTAT'].values.reshape(-1, 1)  \n",
    "y = df['HOUSEVALUE'].values \n",
    "\n",
    "degree = 2  \n",
    "poly_features = PolynomialFeatures(degree=degree)\n",
    "X_poly = poly_features.fit_transform(X)\n",
    "\n",
    "model = LinearRegression()\n",
    "model.fit(X_poly, y)\n",
    "\n",
    "X_range = np.linspace(X.min(), X.max(), 100).reshape(-1, 1)\n",
    "X_range_poly = poly_features.transform(X_range)\n",
    "y_pred_lstat = model.predict(X_range_poly)\n",
    "y_pred_lstat\n",
    "\n"
   ]
  },
  {
   "cell_type": "markdown",
   "metadata": {},
   "source": [
    "### 5b) Show the regression line of your new model on the plot HOUSEVALUE vs. LSTAT"
   ]
  },
  {
   "cell_type": "code",
   "execution_count": 18,
   "metadata": {},
   "outputs": [
    {
     "data": {
      "image/png": "[encoded data removed]",
      "text/plain": [
       "<Figure size 640x480 with 1 Axes>"
      ]
     },
     "metadata": {},
     "output_type": "display_data"
    }
   ],
   "source": [
    "plt.scatter(X, y, color='blue', label='Actual Data')\n",
    "plt.plot(X_range, y_pred_lstat, color='red', label='Polynomial Regression')\n",
    "plt.xlabel('LSTAT')\n",
    "plt.ylabel('HOUSEVALUE')\n",
    "plt.title('Polynomial Regression')\n",
    "plt.legend()\n",
    "plt.show()"
   ]
  },
  {
   "cell_type": "markdown",
   "metadata": {},
   "source": [
    "### 5c) What are the performance metrics of your model now, compared to those of question 4b? Is this model better than the previous one? Why?"
   ]
  },
  {
   "cell_type": "markdown",
   "metadata": {},
   "source": [
    "### 6a) Train a third regression model that uses all the avalilable features as predictors"
   ]
  },
  {
   "cell_type": "code",
   "execution_count": 24,
   "metadata": {},
   "outputs": [
    {
     "data": {
      "text/html": [
       "<style>#sk-container-id-1 {color: black;background-color: white;}#sk-container-id-1 pre{padding: 0;}#sk-container-id-1 div.sk-toggleable {background-color: white;}#sk-container-id-1 label.sk-toggleable__label {cursor: pointer;display: block;width: 100%;margin-bottom: 0;padding: 0.3em;box-sizing: border-box;text-align: center;}#sk-container-id-1 label.sk-toggleable__label-arrow:before {content: \"▸\";float: left;margin-right: 0.25em;color: #696969;}#sk-container-id-1 label.sk-toggleable__label-arrow:hover:before {color: black;}#sk-container-id-1 div.sk-estimator:hover label.sk-toggleable__label-arrow:before {color: black;}#sk-container-id-1 div.sk-toggleable__content {max-height: 0;max-width: 0;overflow: hidden;text-align: left;background-color: #f0f8ff;}#sk-container-id-1 div.sk-toggleable__content pre {margin: 0.2em;color: black;border-radius: 0.25em;background-color: #f0f8ff;}#sk-container-id-1 input.sk-toggleable__control:checked~div.sk-toggleable__content {max-height: 200px;max-width: 100%;overflow: auto;}#sk-container-id-1 input.sk-toggleable__control:checked~label.sk-toggleable__label-arrow:before {content: \"▾\";}#sk-container-id-1 div.sk-estimator input.sk-toggleable__control:checked~label.sk-toggleable__label {background-color: #d4ebff;}#sk-container-id-1 div.sk-label input.sk-toggleable__control:checked~label.sk-toggleable__label {background-color: #d4ebff;}#sk-container-id-1 input.sk-hidden--visually {border: 0;clip: rect(1px 1px 1px 1px);clip: rect(1px, 1px, 1px, 1px);height: 1px;margin: -1px;overflow: hidden;padding: 0;position: absolute;width: 1px;}#sk-container-id-1 div.sk-estimator {font-family: monospace;background-color: #f0f8ff;border: 1px dotted black;border-radius: 0.25em;box-sizing: border-box;margin-bottom: 0.5em;}#sk-container-id-1 div.sk-estimator:hover {background-color: #d4ebff;}#sk-container-id-1 div.sk-parallel-item::after {content: \"\";width: 100%;border-bottom: 1px solid gray;flex-grow: 1;}#sk-container-id-1 div.sk-label:hover label.sk-toggleable__label {background-color: #d4ebff;}#sk-container-id-1 div.sk-serial::before {content: \"\";position: absolute;border-left: 1px solid gray;box-sizing: border-box;top: 0;bottom: 0;left: 50%;z-index: 0;}#sk-container-id-1 div.sk-serial {display: flex;flex-direction: column;align-items: center;background-color: white;padding-right: 0.2em;padding-left: 0.2em;position: relative;}#sk-container-id-1 div.sk-item {position: relative;z-index: 1;}#sk-container-id-1 div.sk-parallel {display: flex;align-items: stretch;justify-content: center;background-color: white;position: relative;}#sk-container-id-1 div.sk-item::before, #sk-container-id-1 div.sk-parallel-item::before {content: \"\";position: absolute;border-left: 1px solid gray;box-sizing: border-box;top: 0;bottom: 0;left: 50%;z-index: -1;}#sk-container-id-1 div.sk-parallel-item {display: flex;flex-direction: column;z-index: 1;position: relative;background-color: white;}#sk-container-id-1 div.sk-parallel-item:first-child::after {align-self: flex-end;width: 50%;}#sk-container-id-1 div.sk-parallel-item:last-child::after {align-self: flex-start;width: 50%;}#sk-container-id-1 div.sk-parallel-item:only-child::after {width: 0;}#sk-container-id-1 div.sk-dashed-wrapped {border: 1px dashed gray;margin: 0 0.4em 0.5em 0.4em;box-sizing: border-box;padding-bottom: 0.4em;background-color: white;}#sk-container-id-1 div.sk-label label {font-family: monospace;font-weight: bold;display: inline-block;line-height: 1.2em;}#sk-container-id-1 div.sk-label-container {text-align: center;}#sk-container-id-1 div.sk-container {/* jupyter's `normalize.less` sets `[hidden] { display: none; }` but bootstrap.min.css set `[hidden] { display: none !important; }` so we also need the `!important` here to be able to override the default hidden behavior on the sphinx rendered scikit-learn.org. See: https://github.com/scikit-learn/scikit-learn/issues/21755 */display: inline-block !important;position: relative;}#sk-container-id-1 div.sk-text-repr-fallback {display: none;}</style><div id=\"sk-container-id-1\" class=\"sk-top-container\"><div class=\"sk-text-repr-fallback\"><pre>RandomForestRegressor(n_estimators=10, random_state=0)</pre><b>In a Jupyter environment, please rerun this cell to show the HTML representation or trust the notebook. <br />On GitHub, the HTML representation is unable to render, please try loading this page with nbviewer.org.</b></div><div class=\"sk-container\" hidden><div class=\"sk-item\"><div class=\"sk-estimator sk-toggleable\"><input class=\"sk-toggleable__control sk-hidden--visually\" id=\"sk-estimator-id-1\" type=\"checkbox\" checked><label for=\"sk-estimator-id-1\" class=\"sk-toggleable__label sk-toggleable__label-arrow\">RandomForestRegressor</label><div class=\"sk-toggleable__content\"><pre>RandomForestRegressor(n_estimators=10, random_state=0)</pre></div></div></div></div></div>"
      ],
      "text/plain": [
       "RandomForestRegressor(n_estimators=10, random_state=0)"
      ]
     },
     "execution_count": 24,
     "metadata": {},
     "output_type": "execute_result"
    }
   ],
   "source": [
    "from sklearn.ensemble import RandomForestRegressor\n",
    "regressor = RandomForestRegressor(n_estimators = 10, random_state = 0)\n",
    "regressor.fit(X_train, y_train)"
   ]
  },
  {
   "cell_type": "code",
   "execution_count": 25,
   "metadata": {},
   "outputs": [
    {
     "data": {
      "text/plain": [
       "array([20.46      , 37.62      , 17.99833333, 24.81266667, 14.08      ,\n",
       "       22.73      , 15.05      , 11.95      , 20.97      , 21.03      ,\n",
       "       18.46      , 17.99      , 11.32      , 19.98333333, 23.98      ,\n",
       "       23.98      , 21.49      ,  8.43      , 46.        , 15.05      ,\n",
       "       31.09      , 25.82      , 10.04      , 19.13      , 11.01      ,\n",
       "       15.05      , 20.06      , 17.62      , 14.08      , 21.215     ,\n",
       "       20.61      , 25.82      , 19.9       , 21.65      , 13.72      ,\n",
       "       18.7       , 37.8       , 24.07      , 18.96      , 25.55      ,\n",
       "       13.03      , 25.55      , 46.        , 21.37      , 40.96      ,\n",
       "       17.99      , 15.05      , 26.95      , 16.91      , 35.95      ,\n",
       "       21.07      , 31.86      , 17.99      , 23.545     , 48.8       ,\n",
       "       18.52      , 16.78      , 50.        , 23.21      , 18.33      ,\n",
       "       23.09      , 28.55      , 37.4       , 23.98      , 31.22      ,\n",
       "       13.7       , 17.99      , 26.95      , 37.54      , 16.31      ,\n",
       "       20.165     , 26.195     , 12.79      , 24.18      , 19.35      ,\n",
       "        8.43      , 19.98333333, 46.8       , 12.94      , 11.83      ,\n",
       "       40.76      , 14.57      , 21.7       , 11.42      , 23.98      ,\n",
       "       27.54333333, 17.58      , 24.56      , 27.56      , 16.62      ,\n",
       "       16.52      , 13.91      , 23.88      , 20.95      , 23.87      ,\n",
       "       23.97      , 24.2       ,  8.08      , 17.99833333, 13.72      ,\n",
       "       19.4       , 33.24      , 16.4       , 22.78      , 28.88      ,\n",
       "       13.15      , 27.51      , 36.49      , 27.54333333, 27.18833333,\n",
       "       14.57      , 11.06      , 24.58      , 22.95      , 25.24      ,\n",
       "       15.78      , 25.52      , 17.31      , 22.73      , 25.24      ,\n",
       "       20.78333333, 26.182     , 12.82      , 19.95      , 26.16      ,\n",
       "       25.205     , 25.24      , 28.55      , 18.54      , 37.4       ,\n",
       "       14.        , 23.74333333, 21.14      , 17.99      , 10.71      ,\n",
       "       22.31      , 23.39      , 45.14      , 40.258     , 16.91      ,\n",
       "       18.96      , 34.91      , 19.09      , 11.83      , 12.92      ,\n",
       "       18.52      , 15.78      , 12.92      , 10.6       , 28.68      ,\n",
       "       17.69      , 17.41      , 26.23      , 22.31      , 21.19      ,\n",
       "       31.09      , 15.05      , 26.195     , 46.        , 12.09      ,\n",
       "       21.22      , 21.22      , 21.01      , 24.66      , 22.02      ,\n",
       "       22.73      , 26.182     , 17.99833333, 22.08      , 13.32      ,\n",
       "       21.        , 21.25      , 26.6       , 31.86      , 20.02      ,\n",
       "       16.44      , 22.02      , 32.83      , 46.        , 26.195     ,\n",
       "       11.64      ,  8.08      , 10.05      , 21.49      , 41.82      ,\n",
       "       26.37      , 17.02      ,  8.08      , 37.4       , 32.38      ,\n",
       "       20.155     , 23.31      , 15.78      , 17.58      , 14.48      ,\n",
       "       36.73      , 27.63      , 10.98      , 18.54      , 11.79      ,\n",
       "       23.29      , 25.42      , 19.83333333])"
      ]
     },
     "execution_count": 25,
     "metadata": {},
     "output_type": "execute_result"
    }
   ],
   "source": [
    "y_pred_rf = regressor.predict(X_test)\n",
    "y_pred_rf"
   ]
  },
  {
   "cell_type": "markdown",
   "metadata": {},
   "source": [
    "### 6b) What are the performance metrics when you take all the features as predictors?"
   ]
  },
  {
   "cell_type": "code",
   "execution_count": 26,
   "metadata": {},
   "outputs": [
    {
     "name": "stdout",
     "output_type": "stream",
     "text": [
      "RMSE model with all features: 6.405123319314951\n"
     ]
    }
   ],
   "source": [
    "from sklearn.metrics import mean_squared_error\n",
    "\n",
    "rmse_all_features = np.sqrt(mean_squared_error(y_test, y_pred_rf))\n",
    "\n",
    "print(\"RMSE model with all features:\", rmse_all_features)\n"
   ]
  },
  {
   "cell_type": "markdown",
   "metadata": {},
   "source": [
    "### 7) Pick the best model you have trained in this exercise and give a reliable assessment its performance on unseen data. Comment on this generalization error."
   ]
  },
  {
   "cell_type": "code",
   "execution_count": 30,
   "metadata": {},
   "outputs": [
    {
     "ename": "NameError",
     "evalue": "name 'model_all_features' is not defined",
     "output_type": "error",
     "traceback": [
      "\u001b[1;31m---------------------------------------------------------------------------\u001b[0m",
      "\u001b[1;31mNameError\u001b[0m                                 Traceback (most recent call last)",
      "Cell \u001b[1;32mIn[30], line 1\u001b[0m\n\u001b[1;32m----> 1\u001b[0m y_pred_unseen \u001b[38;5;241m=\u001b[39m \u001b[43mmodel_all_features\u001b[49m\u001b[38;5;241m.\u001b[39mpredict(X_train)\n\u001b[0;32m      3\u001b[0m rmse_unseen \u001b[38;5;241m=\u001b[39m np\u001b[38;5;241m.\u001b[39msqrt(mean_squared_error(y_train, y_pred_unseen))\n\u001b[0;32m      5\u001b[0m \u001b[38;5;28mprint\u001b[39m(\u001b[38;5;124m\"\u001b[39m\u001b[38;5;124mRMSE on unseen data:\u001b[39m\u001b[38;5;124m\"\u001b[39m, rmse_unseen)\n",
      "\u001b[1;31mNameError\u001b[0m: name 'model_all_features' is not defined"
     ]
    }
   ],
   "source": [
    "\n",
    "y_pred_unseen = model_all_features.predict(X_train)\n",
    "\n",
    "rmse_unseen = np.sqrt(mean_squared_error(y_train, y_pred_unseen))\n",
    "\n",
    "print(\"RMSE on unseen data:\", rmse_unseen)\n"
   ]
  },
  {
   "cell_type": "code",
   "execution_count": null,
   "metadata": {},
   "outputs": [],
   "source": []
  },
  {
   "cell_type": "code",
   "execution_count": null,
   "metadata": {},
   "outputs": [],
   "source": []
  }
 ],
 "metadata": {
  "kernelspec": {
   "display_name": "Python 3 (ipykernel)",
   "language": "python",
   "name": "python3"
  },
  "language_info": {
   "codemirror_mode": {
    "name": "ipython",
    "version": 3
   },
   "file_extension": ".py",
   "mimetype": "text/x-python",
   "name": "python",
   "nbconvert_exporter": "python",
   "pygments_lexer": "ipython3",
   "version": "3.11.0"
  }
 },
 "nbformat": 4,
 "nbformat_minor": 4
}
